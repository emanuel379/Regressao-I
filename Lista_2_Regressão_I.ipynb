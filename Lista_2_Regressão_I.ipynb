{
  "nbformat": 4,
  "nbformat_minor": 0,
  "metadata": {
    "colab": {
      "provenance": [],
      "authorship_tag": "ABX9TyN3DxpGiFDMmHe4/x9Xt3t7",
      "include_colab_link": true
    },
    "kernelspec": {
      "name": "python3",
      "display_name": "Python 3"
    },
    "language_info": {
      "name": "python"
    }
  },
  "cells": [
    {
      "cell_type": "markdown",
      "metadata": {
        "id": "view-in-github",
        "colab_type": "text"
      },
      "source": [
        "<a href=\"https://colab.research.google.com/github/emanuel379/Regressao-I/blob/main/Lista_2_Regress%C3%A3o_I.ipynb\" target=\"_parent\"><img src=\"https://colab.research.google.com/assets/colab-badge.svg\" alt=\"Open In Colab\"/></a>"
      ]
    },
    {
      "cell_type": "code",
      "source": [
        "import numpy as np\n",
        "import matplotlib.pyplot as plt\n",
        "import scipy.stats as stats\n",
        "import statsmodels.api as sm\n",
        "\n",
        "import pandas as pd\n",
        "from sklearn.linear_model import LinearRegression"
      ],
      "metadata": {
        "id": "DRkWvaxJahNo"
      },
      "execution_count": null,
      "outputs": []
    },
    {
      "cell_type": "markdown",
      "source": [
        "**7.** Suponha, como no exercício 5, que nosso problema é modelado por uma equação linear que passa pela origem, i.e. µY|x = β1x. Dito isso,"
      ],
      "metadata": {
        "id": "eps7ydBMYwIX"
      }
    },
    {
      "cell_type": "markdown",
      "source": [
        "**(a)** estime a linha de regressao para os seguintes dados:\n",
        "\n",
        "x 0.5 1.5 3.2 4.2 5.1 6.5\n",
        "\n",
        "y 1.3 3.4 6.7 8.0 10.0 13.2"
      ],
      "metadata": {
        "id": "DoMBTJPPZAg2"
      }
    },
    {
      "cell_type": "code",
      "execution_count": null,
      "metadata": {
        "colab": {
          "base_uri": "https://localhost:8080/",
          "height": 501
        },
        "id": "hWR3z3KWYJce",
        "outputId": "9c834850-cc71-48f9-fcae-41a9eb410306"
      },
      "outputs": [
        {
          "output_type": "stream",
          "name": "stdout",
          "text": [
            "Equação da Regressão Linear: Yi = 0.35 + 1.93Xi\n",
            "\n",
            "\n"
          ]
        },
        {
          "output_type": "display_data",
          "data": {
            "text/plain": [
              "<Figure size 640x480 with 1 Axes>"
            ],
            "image/png": "[encoded data removed]"
          },
          "metadata": {}
        }
      ],
      "source": [
        "# Dados\n",
        "x = [0.5, 1.5, 3.2, 4.2, 5.1, 6.5]\n",
        "y = [1.3, 3.4, 6.7, 8.0, 10.0, 13.2]\n",
        "\n",
        "# Obtendo o nosso modelo de Regressão Linear\n",
        "coefficients = np.polyfit(x, y, 1)  # 1 para especificar que o modelo é linear\n",
        "slope, intercept = coefficients\n",
        "\n",
        "# Criando a Regressão Linear\n",
        "regression_line = np.poly1d(coefficients)\n",
        "\n",
        "# Printando a equação da Regressão Linear obtida\n",
        "print(f\"Equação da Regressão Linear: Yi = {intercept:.2f} + {slope:.2f}Xi\")\n",
        "\n",
        "print('\\n')\n",
        "\n",
        "# Criando um range  para os valores de X, baseados em X(1) e X(n)\n",
        "x_range = np.linspace(min(x), max(x), 100)\n",
        "\n",
        "# Calculando os valores correspondentes de Y no modelo\n",
        "y_range = regression_line(x_range)\n",
        "\n",
        "# Plotando os dados originais\n",
        "plt.scatter(x, y, label='Dados')\n",
        "\n",
        "# Plotando a reta de rRegressão\n",
        "plt.plot(x_range, y_range, color='red', label='Reta de Regressão')\n",
        "\n",
        "# Adicionando labels\n",
        "plt.xlabel('X')\n",
        "plt.ylabel('Y')\n",
        "plt.legend()\n",
        "\n",
        "# Plotando o modelo resultante\n",
        "plt.show()"
      ]
    },
    {
      "cell_type": "markdown",
      "source": [
        "**(b)** Imagine que nao sabemos se a verdadeira linha de regressão deva passar pela origem ou não. Estime o modelo linear µY|x = β0 + β1x, e teste a hipotese de que β0 = 0, com um nível de 90% de significancia em relação a hipótese alternativa β0 != 0."
      ],
      "metadata": {
        "id": "c3V8h9bObbSO"
      }
    },
    {
      "cell_type": "code",
      "source": [
        "# Adicionando uma constante à variável independente para incluir β0.\n",
        "x = sm.add_constant(x)\n",
        "\n",
        "# Ajustando o modelo de regressão linear simples.\n",
        "model = sm.OLS(y, x).fit()\n",
        "\n",
        "# Observando resultados importantes.\n",
        "print(model.summary())"
      ],
      "metadata": {
        "colab": {
          "base_uri": "https://localhost:8080/"
        },
        "id": "MW5wCs9ymqPQ",
        "outputId": "9c927538-c9a9-48d5-c590-bec473e582d6"
      },
      "execution_count": null,
      "outputs": [
        {
          "output_type": "stream",
          "name": "stdout",
          "text": [
            "                            OLS Regression Results                            \n",
            "==============================================================================\n",
            "Dep. Variable:                      y   R-squared:                       0.996\n",
            "Model:                            OLS   Adj. R-squared:                  0.995\n",
            "Method:                 Least Squares   F-statistic:                     953.0\n",
            "Date:                Fri, 13 Oct 2023   Prob (F-statistic):           6.56e-06\n",
            "Time:                        22:29:04   Log-Likelihood:               -0.33308\n",
            "No. Observations:                   6   AIC:                             4.666\n",
            "Df Residuals:                       4   BIC:                             4.250\n",
            "Df Model:                           1                                         \n",
            "Covariance Type:            nonrobust                                         \n",
            "==============================================================================\n",
            "                 coef    std err          t      P>|t|      [0.025      0.975]\n",
            "------------------------------------------------------------------------------\n",
            "const          0.3492      0.253      1.378      0.240      -0.354       1.053\n",
            "x1             1.9288      0.062     30.871      0.000       1.755       2.102\n",
            "==============================================================================\n",
            "Omnibus:                          nan   Durbin-Watson:                   1.897\n",
            "Prob(Omnibus):                    nan   Jarque-Bera (JB):                0.534\n",
            "Skew:                          -0.570   Prob(JB):                        0.766\n",
            "Kurtosis:                       2.086   Cond. No.                         8.40\n",
            "==============================================================================\n",
            "\n",
            "Notes:\n",
            "[1] Standard Errors assume that the covariance matrix of the errors is correctly specified.\n"
          ]
        },
        {
          "output_type": "stream",
          "name": "stderr",
          "text": [
            "/usr/local/lib/python3.10/dist-packages/statsmodels/stats/stattools.py:74: ValueWarning: omni_normtest is not valid with less than 8 observations; 6 samples were given.\n",
            "  warn(\"omni_normtest is not valid with less than 8 observations; %i \"\n"
          ]
        }
      ]
    },
    {
      "cell_type": "markdown",
      "source": [
        "**8.** Há um certo tipo de molusco, do gênero Haliotis, cuja carne é apreciada por várias culturas, podendo esta ser consumida tanto crua quanto cozida. Um\n",
        "problema encontrado por cientistas que estudam esse animal é determinar a idade de indivíduos a partir do tamanho de suas conchas. Essa não e uma tarefa simples de realizar, porque o crescimento das conchas não depende apenas do tempo de vida, e sim também da disponibilidade de alimento. Uma abordagem comumente adotada é retirar uma amostra da concha e analisar, com a ajuda de um microscópio, o número de anéis presentes nela. Imagine que você faça parte de um grupo de pesquisa que esteja interessado em utilizar as medidas físicas dos moluscos, especialmente a altura da concha, para prever seus tempos de vida. Acredita-se que um modelo de regressão linear simples com erros normais seja suficiente para descrever a relação entre altura e idade. Em particular, o grupo busca dar suporte a teoria de que conchas maiores correspondem a animais mais velhos. Os dados que utilizaremos neste exercício estão no arquivo molusco.csv. Mais informações sobre essa base podem ser encontradas em https://archive.ics.uci.edu/ml/datasets/Abalone."
      ],
      "metadata": {
        "id": "CRzIoAtdP9rH"
      }
    },
    {
      "cell_type": "markdown",
      "source": [
        "**(a)** Escreva algumas sentenças descrevendo o problema da pesquisa e a hipotese científica que será verificada.\n",
        "\n",
        "**Resposta:**\n",
        "\n",
        "- Deseja-se verificar a idade dos moluscos.\n",
        "\n",
        "- Para isso, busca-se uma relação entre a idade dos moluscos e o tamanho de suas conchas.\n",
        "\n",
        "- Para tal abordagem, temos a hipótese de que, se o tamnho da concha aumentar, isso nos traz evidências de que tais moluscos são mais velhos, o mesmo é válido para o caso contrário, o qual nos traria evidências de que se tratam de moluscos mais jovens."
      ],
      "metadata": {
        "id": "Y2PIPlaGRbPc"
      }
    },
    {
      "cell_type": "markdown",
      "source": [
        "**(b)** Examine as duas variáveis da base de dados individualmente. Faça um resumo de suas medidas (média, variância, intervalo de amostragem, etc). Faça essa descrição também por meio de gráficos. Qual e a unidade de Height?"
      ],
      "metadata": {
        "id": "Or7B4QJcbXuZ"
      }
    },
    {
      "cell_type": "code",
      "source": [
        "# Observando os dados extraídos\n",
        "\n",
        "df = pd.read_csv('molusco.csv')\n",
        "df"
      ],
      "metadata": {
        "colab": {
          "base_uri": "https://localhost:8080/",
          "height": 423
        },
        "id": "QUPpWveBbyVP",
        "outputId": "55ab0e30-114f-4644-e147-2dcafc13bced"
      },
      "execution_count": null,
      "outputs": [
        {
          "output_type": "execute_result",
          "data": {
            "text/plain": [
              "      Height  Rings\n",
              "0      0.095     15\n",
              "1      0.090      7\n",
              "2      0.135      9\n",
              "3      0.125     10\n",
              "4      0.080      7\n",
              "...      ...    ...\n",
              "4172   0.165     11\n",
              "4173   0.135     10\n",
              "4174   0.205      9\n",
              "4175   0.150     10\n",
              "4176   0.195     12\n",
              "\n",
              "[4177 rows x 2 columns]"
            ],
            "text/html": [
              "\n",
              "  <div id=\"df-35961c37-2b32-4091-8899-8aff64fe0ba6\" class=\"colab-df-container\">\n",
              "    <div>\n",
              "<style scoped>\n",
              "    .dataframe tbody tr th:only-of-type {\n",
              "        vertical-align: middle;\n",
              "    }\n",
              "\n",
              "    .dataframe tbody tr th {\n",
              "        vertical-align: top;\n",
              "    }\n",
              "\n",
              "    .dataframe thead th {\n",
              "        text-align: right;\n",
              "    }\n",
              "</style>\n",
              "<table border=\"1\" class=\"dataframe\">\n",
              "  <thead>\n",
              "    <tr style=\"text-align: right;\">\n",
              "      <th></th>\n",
              "      <th>Height</th>\n",
              "      <th>Rings</th>\n",
              "    </tr>\n",
              "  </thead>\n",
              "  <tbody>\n",
              "    <tr>\n",
              "      <th>0</th>\n",
              "      <td>0.095</td>\n",
              "      <td>15</td>\n",
              "    </tr>\n",
              "    <tr>\n",
              "      <th>1</th>\n",
              "      <td>0.090</td>\n",
              "      <td>7</td>\n",
              "    </tr>\n",
              "    <tr>\n",
              "      <th>2</th>\n",
              "      <td>0.135</td>\n",
              "      <td>9</td>\n",
              "    </tr>\n",
              "    <tr>\n",
              "      <th>3</th>\n",
              "      <td>0.125</td>\n",
              "      <td>10</td>\n",
              "    </tr>\n",
              "    <tr>\n",
              "      <th>4</th>\n",
              "      <td>0.080</td>\n",
              "      <td>7</td>\n",
              "    </tr>\n",
              "    <tr>\n",
              "      <th>...</th>\n",
              "      <td>...</td>\n",
              "      <td>...</td>\n",
              "    </tr>\n",
              "    <tr>\n",
              "      <th>4172</th>\n",
              "      <td>0.165</td>\n",
              "      <td>11</td>\n",
              "    </tr>\n",
              "    <tr>\n",
              "      <th>4173</th>\n",
              "      <td>0.135</td>\n",
              "      <td>10</td>\n",
              "    </tr>\n",
              "    <tr>\n",
              "      <th>4174</th>\n",
              "      <td>0.205</td>\n",
              "      <td>9</td>\n",
              "    </tr>\n",
              "    <tr>\n",
              "      <th>4175</th>\n",
              "      <td>0.150</td>\n",
              "      <td>10</td>\n",
              "    </tr>\n",
              "    <tr>\n",
              "      <th>4176</th>\n",
              "      <td>0.195</td>\n",
              "      <td>12</td>\n",
              "    </tr>\n",
              "  </tbody>\n",
              "</table>\n",
              "<p>4177 rows × 2 columns</p>\n",
              "</div>\n",
              "    <div class=\"colab-df-buttons\">\n",
              "\n",
              "  <div class=\"colab-df-container\">\n",
              "    <button class=\"colab-df-convert\" onclick=\"convertToInteractive('df-35961c37-2b32-4091-8899-8aff64fe0ba6')\"\n",
              "            title=\"Convert this dataframe to an interactive table.\"\n",
              "            style=\"display:none;\">\n",
              "\n",
              "  <svg xmlns=\"http://www.w3.org/2000/svg\" height=\"24px\" viewBox=\"0 -960 960 960\">\n",
              "    <path d=\"M120-120v-720h720v720H120Zm60-500h600v-160H180v160Zm220 220h160v-160H400v160Zm0 220h160v-160H400v160ZM180-400h160v-160H180v160Zm440 0h160v-160H620v160ZM180-180h160v-160H180v160Zm440 0h160v-160H620v160Z\"/>\n",
              "  </svg>\n",
              "    </button>\n",
              "\n",
              "  <style>\n",
              "    .colab-df-container {\n",
              "      display:flex;\n",
              "      gap: 12px;\n",
              "    }\n",
              "\n",
              "    .colab-df-convert {\n",
              "      background-color: #E8F0FE;\n",
              "      border: none;\n",
              "      border-radius: 50%;\n",
              "      cursor: pointer;\n",
              "      display: none;\n",
              "      fill: #1967D2;\n",
              "      height: 32px;\n",
              "      padding: 0 0 0 0;\n",
              "      width: 32px;\n",
              "    }\n",
              "\n",
              "    .colab-df-convert:hover {\n",
              "      background-color: #E2EBFA;\n",
              "      box-shadow: 0px 1px 2px rgba(60, 64, 67, 0.3), 0px 1px 3px 1px rgba(60, 64, 67, 0.15);\n",
              "      fill: #174EA6;\n",
              "    }\n",
              "\n",
              "    .colab-df-buttons div {\n",
              "      margin-bottom: 4px;\n",
              "    }\n",
              "\n",
              "    [theme=dark] .colab-df-convert {\n",
              "      background-color: #3B4455;\n",
              "      fill: #D2E3FC;\n",
              "    }\n",
              "\n",
              "    [theme=dark] .colab-df-convert:hover {\n",
              "      background-color: #434B5C;\n",
              "      box-shadow: 0px 1px 3px 1px rgba(0, 0, 0, 0.15);\n",
              "      filter: drop-shadow(0px 1px 2px rgba(0, 0, 0, 0.3));\n",
              "      fill: #FFFFFF;\n",
              "    }\n",
              "  </style>\n",
              "\n",
              "    <script>\n",
              "      const buttonEl =\n",
              "        document.querySelector('#df-35961c37-2b32-4091-8899-8aff64fe0ba6 button.colab-df-convert');\n",
              "      buttonEl.style.display =\n",
              "        google.colab.kernel.accessAllowed ? 'block' : 'none';\n",
              "\n",
              "      async function convertToInteractive(key) {\n",
              "        const element = document.querySelector('#df-35961c37-2b32-4091-8899-8aff64fe0ba6');\n",
              "        const dataTable =\n",
              "          await google.colab.kernel.invokeFunction('convertToInteractive',\n",
              "                                                    [key], {});\n",
              "        if (!dataTable) return;\n",
              "\n",
              "        const docLinkHtml = 'Like what you see? Visit the ' +\n",
              "          '<a target=\"_blank\" href=https://colab.research.google.com/notebooks/data_table.ipynb>data table notebook</a>'\n",
              "          + ' to learn more about interactive tables.';\n",
              "        element.innerHTML = '';\n",
              "        dataTable['output_type'] = 'display_data';\n",
              "        await google.colab.output.renderOutput(dataTable, element);\n",
              "        const docLink = document.createElement('div');\n",
              "        docLink.innerHTML = docLinkHtml;\n",
              "        element.appendChild(docLink);\n",
              "      }\n",
              "    </script>\n",
              "  </div>\n",
              "\n",
              "\n",
              "<div id=\"df-0243196a-de53-41e0-a6b4-c514bcc5f90a\">\n",
              "  <button class=\"colab-df-quickchart\" onclick=\"quickchart('df-0243196a-de53-41e0-a6b4-c514bcc5f90a')\"\n",
              "            title=\"Suggest charts.\"\n",
              "            style=\"display:none;\">\n",
              "\n",
              "<svg xmlns=\"http://www.w3.org/2000/svg\" height=\"24px\"viewBox=\"0 0 24 24\"\n",
              "     width=\"24px\">\n",
              "    <g>\n",
              "        <path d=\"M19 3H5c-1.1 0-2 .9-2 2v14c0 1.1.9 2 2 2h14c1.1 0 2-.9 2-2V5c0-1.1-.9-2-2-2zM9 17H7v-7h2v7zm4 0h-2V7h2v10zm4 0h-2v-4h2v4z\"/>\n",
              "    </g>\n",
              "</svg>\n",
              "  </button>\n",
              "\n",
              "<style>\n",
              "  .colab-df-quickchart {\n",
              "      --bg-color: #E8F0FE;\n",
              "      --fill-color: #1967D2;\n",
              "      --hover-bg-color: #E2EBFA;\n",
              "      --hover-fill-color: #174EA6;\n",
              "      --disabled-fill-color: #AAA;\n",
              "      --disabled-bg-color: #DDD;\n",
              "  }\n",
              "\n",
              "  [theme=dark] .colab-df-quickchart {\n",
              "      --bg-color: #3B4455;\n",
              "      --fill-color: #D2E3FC;\n",
              "      --hover-bg-color: #434B5C;\n",
              "      --hover-fill-color: #FFFFFF;\n",
              "      --disabled-bg-color: #3B4455;\n",
              "      --disabled-fill-color: #666;\n",
              "  }\n",
              "\n",
              "  .colab-df-quickchart {\n",
              "    background-color: var(--bg-color);\n",
              "    border: none;\n",
              "    border-radius: 50%;\n",
              "    cursor: pointer;\n",
              "    display: none;\n",
              "    fill: var(--fill-color);\n",
              "    height: 32px;\n",
              "    padding: 0;\n",
              "    width: 32px;\n",
              "  }\n",
              "\n",
              "  .colab-df-quickchart:hover {\n",
              "    background-color: var(--hover-bg-color);\n",
              "    box-shadow: 0 1px 2px rgba(60, 64, 67, 0.3), 0 1px 3px 1px rgba(60, 64, 67, 0.15);\n",
              "    fill: var(--button-hover-fill-color);\n",
              "  }\n",
              "\n",
              "  .colab-df-quickchart-complete:disabled,\n",
              "  .colab-df-quickchart-complete:disabled:hover {\n",
              "    background-color: var(--disabled-bg-color);\n",
              "    fill: var(--disabled-fill-color);\n",
              "    box-shadow: none;\n",
              "  }\n",
              "\n",
              "  .colab-df-spinner {\n",
              "    border: 2px solid var(--fill-color);\n",
              "    border-color: transparent;\n",
              "    border-bottom-color: var(--fill-color);\n",
              "    animation:\n",
              "      spin 1s steps(1) infinite;\n",
              "  }\n",
              "\n",
              "  @keyframes spin {\n",
              "    0% {\n",
              "      border-color: transparent;\n",
              "      border-bottom-color: var(--fill-color);\n",
              "      border-left-color: var(--fill-color);\n",
              "    }\n",
              "    20% {\n",
              "      border-color: transparent;\n",
              "      border-left-color: var(--fill-color);\n",
              "      border-top-color: var(--fill-color);\n",
              "    }\n",
              "    30% {\n",
              "      border-color: transparent;\n",
              "      border-left-color: var(--fill-color);\n",
              "      border-top-color: var(--fill-color);\n",
              "      border-right-color: var(--fill-color);\n",
              "    }\n",
              "    40% {\n",
              "      border-color: transparent;\n",
              "      border-right-color: var(--fill-color);\n",
              "      border-top-color: var(--fill-color);\n",
              "    }\n",
              "    60% {\n",
              "      border-color: transparent;\n",
              "      border-right-color: var(--fill-color);\n",
              "    }\n",
              "    80% {\n",
              "      border-color: transparent;\n",
              "      border-right-color: var(--fill-color);\n",
              "      border-bottom-color: var(--fill-color);\n",
              "    }\n",
              "    90% {\n",
              "      border-color: transparent;\n",
              "      border-bottom-color: var(--fill-color);\n",
              "    }\n",
              "  }\n",
              "</style>\n",
              "\n",
              "  <script>\n",
              "    async function quickchart(key) {\n",
              "      const quickchartButtonEl =\n",
              "        document.querySelector('#' + key + ' button');\n",
              "      quickchartButtonEl.disabled = true;  // To prevent multiple clicks.\n",
              "      quickchartButtonEl.classList.add('colab-df-spinner');\n",
              "      try {\n",
              "        const charts = await google.colab.kernel.invokeFunction(\n",
              "            'suggestCharts', [key], {});\n",
              "      } catch (error) {\n",
              "        console.error('Error during call to suggestCharts:', error);\n",
              "      }\n",
              "      quickchartButtonEl.classList.remove('colab-df-spinner');\n",
              "      quickchartButtonEl.classList.add('colab-df-quickchart-complete');\n",
              "    }\n",
              "    (() => {\n",
              "      let quickchartButtonEl =\n",
              "        document.querySelector('#df-0243196a-de53-41e0-a6b4-c514bcc5f90a button');\n",
              "      quickchartButtonEl.style.display =\n",
              "        google.colab.kernel.accessAllowed ? 'block' : 'none';\n",
              "    })();\n",
              "  </script>\n",
              "</div>\n",
              "    </div>\n",
              "  </div>\n"
            ]
          },
          "metadata": {},
          "execution_count": 39
        }
      ]
    },
    {
      "cell_type": "code",
      "source": [
        "# Encontrando as medidas descritivas para os dados da altura, considerando a unidade \"milímetros = mm\"\n",
        "\n",
        "print(f'A média das alturas é de {round(np.mean(df[\"Height\"]), 4)} mm')\n",
        "print(f'A variância das alturas é de {round(np.var(df[\"Height\"]), 4)} mm^2')\n",
        "print(f'O intervalo de amostragem das alturas varia de {np.min(df[\"Height\"])} a {np.max(df[\"Height\"])} mm')\n",
        "print(f'A amplitude observada para as alturas é de {np.max(df[\"Height\"]) - np.min(df[\"Height\"])} mm')"
      ],
      "metadata": {
        "id": "CHlJq7-AdZal",
        "colab": {
          "base_uri": "https://localhost:8080/"
        },
        "outputId": "ab000c08-367e-497d-a570-c86cec7c1b72"
      },
      "execution_count": null,
      "outputs": [
        {
          "output_type": "stream",
          "name": "stdout",
          "text": [
            "A média das alturas é de 0.1395 mm\n",
            "A variância das alturas é de 0.0017 mm^2\n",
            "O intervalo de amostragem das alturas varia de 0.0 a 1.13 mm\n",
            "A amplitude observada para as alturas é de 1.13 mm\n"
          ]
        }
      ]
    },
    {
      "cell_type": "code",
      "source": [
        "# Encontrando as medidas descritivas para os dados do número de anéis\n",
        "\n",
        "print(f'A média do número de anéis é de {round(np.mean(df[\"Rings\"]), 2)} anéis')\n",
        "print(f'A variância do número de anéis é de {round(np.var(df[\"Rings\"]), 2)} anéis^2')\n",
        "print(f'O intervalo de amostragem do número de anéis varia de {np.min(df[\"Rings\"])} a {np.max(df[\"Rings\"])} anéis')\n",
        "print(f'A amplitude observada para o número de anéis é de {np.max(df[\"Rings\"]) - np.min(df[\"Rings\"])} anéis')"
      ],
      "metadata": {
        "colab": {
          "base_uri": "https://localhost:8080/"
        },
        "id": "zUTuX6EzrbBI",
        "outputId": "36efc92c-5b8b-48f5-c8ad-eb2beab1f2c0"
      },
      "execution_count": null,
      "outputs": [
        {
          "output_type": "stream",
          "name": "stdout",
          "text": [
            "A média do número de anéis é de 9.93 anéis\n",
            "A variância do número de anéis é de 10.39 anéis^2\n",
            "O intervalo de amostragem do número de anéis varia de 1 a 29 anéis\n",
            "A amplitude observada para o número de anéis é de 28 anéis\n"
          ]
        }
      ]
    },
    {
      "cell_type": "code",
      "source": [
        "# Plotando o gráfico de distribuição de frequências das alturas\n",
        "\n",
        "plt.hist(df['Height'], bins = 100, edgecolor='k')\n",
        "plt.xlabel('Altura (mm)')\n",
        "plt.ylabel('Frequência')\n",
        "plt.title('Distribuição das alturas')\n",
        "plt.show()"
      ],
      "metadata": {
        "colab": {
          "base_uri": "https://localhost:8080/",
          "height": 472
        },
        "id": "wNHthgz_tsj-",
        "outputId": "f3b2861f-ac61-45ee-8b63-5995ac2675a4"
      },
      "execution_count": null,
      "outputs": [
        {
          "output_type": "display_data",
          "data": {
            "text/plain": [
              "<Figure size 640x480 with 1 Axes>"
            ],
            "image/png": "[encoded data removed]"
          },
          "metadata": {}
        }
      ]
    },
    {
      "cell_type": "code",
      "source": [
        "# Plotando o gráfico de distribuição de frequências do número de anéis\n",
        "\n",
        "plt.hist(df['Rings'], bins = 25, edgecolor='k')\n",
        "plt.xlabel('Número de anéis')\n",
        "plt.ylabel('Frequência')\n",
        "plt.title('Distribuição do número de anéis')\n",
        "plt.show()"
      ],
      "metadata": {
        "colab": {
          "base_uri": "https://localhost:8080/",
          "height": 472
        },
        "id": "6ICrBB-numgW",
        "outputId": "e5a602c6-3449-4d10-e60c-7738c569d13b"
      },
      "execution_count": null,
      "outputs": [
        {
          "output_type": "display_data",
          "data": {
            "text/plain": [
              "<Figure size 640x480 with 1 Axes>"
            ],
            "image/png": "[encoded data removed]"
          },
          "metadata": {}
        }
      ]
    },
    {
      "cell_type": "markdown",
      "source": [
        "**(c)** Faça um gráfico de dispersão dos dados. Descreva as tendências interessantes observadas."
      ],
      "metadata": {
        "id": "30f_T7YdtcI6"
      }
    },
    {
      "cell_type": "code",
      "source": [
        "# Plotando o diagrama de dispersão para os dados\n",
        "\n",
        "plt.scatter(df['Height'], df['Rings'])\n",
        "plt.xlabel('Altura da concha')\n",
        "plt.ylabel('Número de anéis')\n",
        "plt.title('Diagrama de dispersão')\n",
        "plt.show()"
      ],
      "metadata": {
        "colab": {
          "base_uri": "https://localhost:8080/",
          "height": 472
        },
        "id": "3lzzitMLwqYD",
        "outputId": "fbf3ec50-e7fb-4677-f992-edf60fb7fc8b"
      },
      "execution_count": null,
      "outputs": [
        {
          "output_type": "display_data",
          "data": {
            "text/plain": [
              "<Figure size 640x480 with 1 Axes>"
            ],
            "image/png": "[encoded data removed]"
          },
          "metadata": {}
        }
      ]
    },
    {
      "cell_type": "markdown",
      "source": [
        "Não é possível observar uma relação tão clara entre os dados, entretanto é possível perceber que existe uma correlação positiva entre a altura da concha e o número de anéis."
      ],
      "metadata": {
        "id": "lFslhH8Qxo9m"
      }
    },
    {
      "cell_type": "markdown",
      "source": [
        "**(d)** Ajuste uma linha de regressão aos dados, prevendo o número de anéis na concha utilizando o tempo de vida dos moluscos."
      ],
      "metadata": {
        "id": "3wPAd7PzxFIZ"
      }
    },
    {
      "cell_type": "code",
      "source": [
        "X = df['Height'].values.reshape(-1, 1)\n",
        "y = df['Rings'].values\n",
        "\n",
        "# Criando e ajustando um modelo de regressão linear\n",
        "model = LinearRegression()\n",
        "model.fit(X, y)\n",
        "\n",
        "# Fazendo predições utilizando o modelo\n",
        "y_pred = model.predict(X)\n",
        "\n",
        "# Criando o diagrama de dispersão\n",
        "plt.scatter(X, y, label='Dados')\n",
        "\n",
        "# Plotando a reta de regressão\n",
        "plt.plot(X, y_pred, color='red', linewidth=2, label= f'Reta de regressão')\n",
        "\n",
        "plt.xlabel('Altura')\n",
        "plt.ylabel('Anéis')\n",
        "plt.title('Regressão linear')\n",
        "plt.legend()\n",
        "plt.show()"
      ],
      "metadata": {
        "colab": {
          "base_uri": "https://localhost:8080/",
          "height": 472
        },
        "id": "ekps_ESvxB0s",
        "outputId": "c16ca21b-90f6-44b0-a2a8-75dc54535b1e"
      },
      "execution_count": null,
      "outputs": [
        {
          "output_type": "display_data",
          "data": {
            "text/plain": [
              "<Figure size 640x480 with 1 Axes>"
            ],
            "image/png": "[encoded data removed]"
          },
          "metadata": {}
        }
      ]
    },
    {
      "cell_type": "markdown",
      "source": [
        "**(e)** Crie um grafico de dispersão que mostre os dados e a função de regressão estimada (você pode incluir no grafico anterior). Descreva o ajuste da reta."
      ],
      "metadata": {
        "id": "-XtN9jHUs0jl"
      }
    },
    {
      "cell_type": "code",
      "source": [
        "X = df['Height'].values.reshape(-1, 1)\n",
        "y = df['Rings'].values\n",
        "\n",
        "# Criando e ajustando um modelo de regressão linear\n",
        "model = LinearRegression()\n",
        "model.fit(X, y)\n",
        "\n",
        "# Fazendo predições utilizando o modelo\n",
        "y_pred = model.predict(X)\n",
        "\n",
        "# Extraindo o intercepto e o coeficiente angular\n",
        "slope = model.coef_[0]\n",
        "intercept = model.intercept_\n",
        "\n",
        "# Criando o diagrama de dispersão\n",
        "plt.scatter(X, y, label='Dados')\n",
        "\n",
        "# Plotando a reta de regressão\n",
        "plt.plot(X, y_pred, color='red', linewidth=2, label=f'Reta de regressão: y = {intercept:.2f} + {slope:.2f}x')\n",
        "\n",
        "plt.xlabel('Altura')\n",
        "plt.ylabel('Anéis')\n",
        "plt.title('Regressão linear')\n",
        "plt.legend()\n",
        "plt.show()"
      ],
      "metadata": {
        "colab": {
          "base_uri": "https://localhost:8080/",
          "height": 472
        },
        "id": "GBaQvgeBpk85",
        "outputId": "edcac3a8-58a7-4d83-caeb-9a05e0ebc152"
      },
      "execution_count": null,
      "outputs": [
        {
          "output_type": "display_data",
          "data": {
            "text/plain": [
              "<Figure size 640x480 with 1 Axes>"
            ],
            "image/png": "[encoded data removed]"
          },
          "metadata": {}
        }
      ]
    },
    {
      "cell_type": "markdown",
      "source": [
        "É possível observar que o ajuste da reta aos dados não foi muito bom, uma vez que a presença de pontos extremos e a aglomeração de vários dados para uma determinada altura, porém com resultados distintos para o número real de anéis, não nos permite observar com clareza o comportamento dos dados através de um modelo linear, embora seja aparente a observação de uma correlação positiva entre a altura da concha e o número de anéis. Tal situação poderia nos indicar a necessidade de reavaliação do modelo, considerando-se mais variáveis preditoras ou mesmo que o modelo seja não linear."
      ],
      "metadata": {
        "id": "OE07xCLAsC1o"
      }
    },
    {
      "cell_type": "markdown",
      "source": [
        "**(f)** Forneça um intervalo de 95% de confiança para β0 e β1. Interprete no contexto do problema."
      ],
      "metadata": {
        "id": "Q3CIOGJ9tJ0_"
      }
    },
    {
      "cell_type": "code",
      "source": [
        "X = df['Height']\n",
        "y = df['Rings']\n",
        "\n",
        "# Adicionando uma constante ao valor de β0.\n",
        "X = sm.add_constant(X)\n",
        "\n",
        "# Criando e ajustando um modelo OLS.\n",
        "model = sm.OLS(y, X).fit()\n",
        "\n",
        "# Obtendo intervalos de 95% de confiança para β0 e β1.\n",
        "confidence_intervals = model.conf_int(alpha=0.05)\n",
        "\n",
        "# Extraindo os valores.\n",
        "intercept_ci = confidence_intervals.loc['const'].values\n",
        "beta1_ci = confidence_intervals.loc['Height'].values\n",
        "\n",
        "# Arredondando para três casas decimais.\n",
        "intercept_ci = [round(val, 3) for val in intercept_ci]\n",
        "beta1_ci = [round(val, 3) for val in beta1_ci]\n",
        "\n",
        "# Printando os intervalos de confiança.\n",
        "print(f'Intervalo de confiança de 95% para β0: {intercept_ci}')\n",
        "print(f'Intervalo de confiança de 95% para β1: {beta1_ci}')"
      ],
      "metadata": {
        "colab": {
          "base_uri": "https://localhost:8080/"
        },
        "id": "tSsJzPybHt4E",
        "outputId": "29c633d5-2a35-4fca-b266-fbf853b39aae"
      },
      "execution_count": null,
      "outputs": [
        {
          "output_type": "stream",
          "name": "stdout",
          "text": [
            "Intervalo de confiança de 95% para β0: [3.656, 4.221]\n",
            "Intervalo de confiança de 95% para β1: [41.03, 44.913]\n"
          ]
        }
      ]
    },
    {
      "cell_type": "markdown",
      "source": [
        "É possível observar, com base no intervalo de confiança de 95%, que o intercepto não é uma medida desprezivel, ou seja β0 != 0, também é possível analizar que, para cada milímetro de altura a mais na concha, é esperado um incremento aproximado de 41 a 45 anéis para o molusco, os quais refletem diretamente em seu tempo de vida."
      ],
      "metadata": {
        "id": "iyMTAQa8Ij5H"
      }
    },
    {
      "cell_type": "markdown",
      "source": [
        "**(g)** Há uma relação estatÍstica significante entre altura e número de anéis (e, portanto, tempo de vida) dos moluscos?\n",
        "\n",
        "**Resposta:**\n",
        "\n",
        "Sim, uma vez que se espera um incremento de até 45 anos na expectativa de vida de um molusco, caso sua concha aumente em um milímetro, situação que no entando difícilmente ocorreria, dada a amostra observada, entretanto não é permitida uma interpretação conclusiva do modelo, devido a, entre outros fatores, presença de outliers, baixa complexidade e possível não linearidade."
      ],
      "metadata": {
        "id": "v0lAlW6nJI9N"
      }
    },
    {
      "cell_type": "markdown",
      "source": [
        "**(h)** Faça uma estimativa pontual e encontre o intervalo de 95% de confiança para o numero médio de anéis de moluscos com altura 0.128 (na mesma unidade das outras observações)."
      ],
      "metadata": {
        "id": "xynRSTgVM9aK"
      }
    },
    {
      "cell_type": "code",
      "source": [
        "# Encontrando uma estimativa pontual para Yi.\n",
        "Yi = intercept + slope*0.128\n",
        "\n",
        "print(f'Uma estimativa pontual para Yi através do modelo foi de {Yi:.2f}')"
      ],
      "metadata": {
        "colab": {
          "base_uri": "https://localhost:8080/"
        },
        "id": "_bO0YQ2ECUSK",
        "outputId": "c357e413-8af9-45ef-aee5-e491c72ff362"
      },
      "execution_count": null,
      "outputs": [
        {
          "output_type": "stream",
          "name": "stdout",
          "text": [
            "Uma estimativa pontual para Yi através do modelo foi de 9.44\n"
          ]
        }
      ]
    },
    {
      "cell_type": "code",
      "source": [
        "# Valor de um Xi.\n",
        "X_value = 0.128\n",
        "\n",
        "# Acessando os conjuntos de dados para X e y.\n",
        "X = df['Height']\n",
        "y = df['Rings']\n",
        "\n",
        "# Adicionando uma constante ao valor de β0.\n",
        "X = sm.add_constant(X)\n",
        "\n",
        "# Criando e ajustando um modelo OLS.\n",
        "model = sm.OLS(y, X).fit()\n",
        "\n",
        "# Criando um novo dado com o valor de Xi\n",
        "X_specific = [1, X_value]\n",
        "\n",
        "# Obtendo o intervalo de predição para um valor específico de Xi.\n",
        "prediction = model.get_prediction(exog = X_specific)\n",
        "\n",
        "# Encontrando os limites superior e inferior do nosso intervalo de confiança.\n",
        "lim_inf = round(prediction.conf_int(alpha=0.05)[0, 0], 3)\n",
        "lim_sup = round(prediction.conf_int(alpha=0.05)[0, 1], 3)\n",
        "\n",
        "# Observando o resultado.\n",
        "print(f'Intervalo de confiança de 95% para Y quando x = 0.128mm: [{lim_inf}, {lim_sup}]')"
      ],
      "metadata": {
        "colab": {
          "base_uri": "https://localhost:8080/"
        },
        "id": "Hy1LTXiqnqoF",
        "outputId": "016b342c-0cd9-41aa-b174-335a330a55b1"
      },
      "execution_count": null,
      "outputs": [
        {
          "output_type": "stream",
          "name": "stdout",
          "text": [
            "Intervalo de confiança de 95% para Y quando x = 0.128mm: [9.355, 9.523]\n"
          ]
        }
      ]
    },
    {
      "cell_type": "markdown",
      "source": [
        "**(i)** Estamos interessados agora em predizer o numero de anéis de um molusco de tamanho 0.132 (mesma unidade que as anteriores). Encontre o valor predito e o intervalo de prediçao com 99% de significância."
      ],
      "metadata": {
        "id": "yrE74R39qgDs"
      }
    },
    {
      "cell_type": "code",
      "source": [
        "# Encontrando uma estimativa pontual para Yi.\n",
        "Yi = intercept + slope*0.132\n",
        "\n",
        "print(f'Uma estimativa pontual para Yi através do modelo foi de {Yi:.2f}')"
      ],
      "metadata": {
        "colab": {
          "base_uri": "https://localhost:8080/"
        },
        "id": "QCC37_J-DR36",
        "outputId": "2d8f8a57-71b7-4d0c-ccfe-6b65d502f96c"
      },
      "execution_count": null,
      "outputs": [
        {
          "output_type": "stream",
          "name": "stdout",
          "text": [
            "Uma estimativa pontual para Yi através do modelo foi de 9.61\n"
          ]
        }
      ]
    },
    {
      "cell_type": "code",
      "source": [
        "# Valor de um Xi.\n",
        "X_value = 0.132\n",
        "\n",
        "# Acessando os conjuntos de dados para X e y.\n",
        "X = df['Height']\n",
        "y = df['Rings']\n",
        "\n",
        "# Adicionando uma constante ao valor de β0.\n",
        "X = sm.add_constant(X)\n",
        "\n",
        "# Criando e ajustando um modelo OLS.\n",
        "model = sm.OLS(y, X).fit()\n",
        "\n",
        "# Criando um novo dado com o valor de Xi\n",
        "X_specific = [1, X_value]\n",
        "\n",
        "# Obtendo um sumário com o intervalo de predição para um Xi específico.\n",
        "summary_frame = model.get_prediction(exog=X_specific).summary_frame(alpha=0.01)\n",
        "\n",
        "# Encontrando os limites superior e inferior do intervalo de predição.\n",
        "lower_bound = round(summary_frame['obs_ci_lower'][0], 3)\n",
        "upper_bound = round(summary_frame['obs_ci_upper'][0], 3)\n",
        "\n",
        "# Observando o resultado.\n",
        "print(f'99% Prediction Interval for Y when X = {X_value}: [{lower_bound}, {upper_bound}]')"
      ],
      "metadata": {
        "colab": {
          "base_uri": "https://localhost:8080/"
        },
        "id": "KKAyYfSfBc2V",
        "outputId": "51b43d50-f453-4523-8ea6-4939e0fb0b34"
      },
      "execution_count": null,
      "outputs": [
        {
          "output_type": "stream",
          "name": "stdout",
          "text": [
            "99% Prediction Interval for Y when X = 0.132: [2.711, 16.51]\n"
          ]
        }
      ]
    },
    {
      "cell_type": "markdown",
      "source": [
        "**(j)** Conclua brevemente o estudo.\n",
        "\n",
        "**Resposta:**\n",
        "\n",
        "O estudo visa obter uma relação entre a altura da concha e a idade do molusco, entretanto, apesar de ser possível a observação de uma correlação positiva entre as duas variáveis, observamos que o modelo linear simples não é o mais adequado, o que indica a necessidade de se acrescentar novas variáveis de interesse para a predição da idade dos moluscos( como peso, sexo, diâmetro, etc.) ou mesmo a possibilidade de que não se trate de um modelo linear, o que nos levaria a outros tipos de análises que se adequem melhor à correlação pretendida."
      ],
      "metadata": {
        "id": "5R5TSX0Yte23"
      }
    }
  ]
}